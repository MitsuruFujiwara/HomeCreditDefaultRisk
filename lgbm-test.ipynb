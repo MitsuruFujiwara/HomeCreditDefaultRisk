{
 "cells": [
  {
   "cell_type": "code",
   "execution_count": 5,
   "metadata": {
    "collapsed": false
   },
   "outputs": [
    {
     "name": "stdout",
     "output_type": "stream",
     "text": [
      "24825 282686\n"
     ]
    }
   ],
   "source": [
    "import pandas as pd\n",
    "from sklearn.model_selection import train_test_split \n",
    "import lightgbm as lgb\n",
    "\n",
    "from DNN_preprocessing import bureau_preprocessing, previous_application_preprocessing\n",
    "\n",
    "# テストファイル読み込み\n",
    "app_test = pd.read_csv('application_test.csv')\n",
    "app_train = pd.read_csv('application_train.csv')\n",
    "\n",
    "app_test['is_test'] = 1 \n",
    "app_test['is_train'] = 0\n",
    "app_train['is_test'] = 0\n",
    "app_train['is_train'] = 1\n",
    "\n",
    "train_Y = app_train['TARGET']\n",
    "train_X = app_train.drop(['TARGET'], axis = 1)\n",
    "\n",
    "# テストID\n",
    "test_id = app_test['SK_ID_CURR']\n",
    "test_X = app_test\n",
    "\n",
    "# 前処理のためにトレインとテストを連結\n",
    "data = pd.concat([train_X, test_X], axis=0)\n",
    "print(len(train_Y[train_Y==1]),len(train_Y[train_Y==0]))"
   ]
  },
  {
   "cell_type": "code",
   "execution_count": 6,
   "metadata": {
    "collapsed": false
   },
   "outputs": [
    {
     "data": {
      "text/html": [
       "<div>\n",
       "<table border=\"1\" class=\"dataframe\">\n",
       "  <thead>\n",
       "    <tr style=\"text-align: right;\">\n",
       "      <th></th>\n",
       "      <th>SK_ID_CURR</th>\n",
       "      <th>NAME_CONTRACT_TYPE</th>\n",
       "      <th>CODE_GENDER</th>\n",
       "      <th>FLAG_OWN_CAR</th>\n",
       "      <th>FLAG_OWN_REALTY</th>\n",
       "      <th>CNT_CHILDREN</th>\n",
       "      <th>AMT_INCOME_TOTAL</th>\n",
       "      <th>AMT_CREDIT</th>\n",
       "      <th>AMT_ANNUITY</th>\n",
       "      <th>AMT_GOODS_PRICE</th>\n",
       "      <th>...</th>\n",
       "      <th>pre_app_DAYS_DECISION</th>\n",
       "      <th>pre_app_SELLERPLACE_AREA</th>\n",
       "      <th>pre_app_CNT_PAYMENT</th>\n",
       "      <th>pre_app_DAYS_FIRST_DRAWING</th>\n",
       "      <th>pre_app_DAYS_FIRST_DUE</th>\n",
       "      <th>pre_app_DAYS_LAST_DUE_1ST_VERSION</th>\n",
       "      <th>pre_app_DAYS_LAST_DUE</th>\n",
       "      <th>pre_app_DAYS_TERMINATION</th>\n",
       "      <th>pre_app_NFLAG_INSURED_ON_APPROVAL</th>\n",
       "      <th>pre_app_count</th>\n",
       "    </tr>\n",
       "  </thead>\n",
       "  <tbody>\n",
       "    <tr>\n",
       "      <th>0</th>\n",
       "      <td>100002</td>\n",
       "      <td>Cash loans</td>\n",
       "      <td>M</td>\n",
       "      <td>N</td>\n",
       "      <td>Y</td>\n",
       "      <td>0</td>\n",
       "      <td>202500.0</td>\n",
       "      <td>406597.5</td>\n",
       "      <td>24700.5</td>\n",
       "      <td>351000.0</td>\n",
       "      <td>...</td>\n",
       "      <td>-606.000000</td>\n",
       "      <td>500.000000</td>\n",
       "      <td>24.000000</td>\n",
       "      <td>365243.0</td>\n",
       "      <td>-565.000000</td>\n",
       "      <td>125.000000</td>\n",
       "      <td>-25.000000</td>\n",
       "      <td>-17.000000</td>\n",
       "      <td>0.000000</td>\n",
       "      <td>1.0</td>\n",
       "    </tr>\n",
       "    <tr>\n",
       "      <th>1</th>\n",
       "      <td>100003</td>\n",
       "      <td>Cash loans</td>\n",
       "      <td>F</td>\n",
       "      <td>N</td>\n",
       "      <td>N</td>\n",
       "      <td>0</td>\n",
       "      <td>270000.0</td>\n",
       "      <td>1293502.5</td>\n",
       "      <td>35698.5</td>\n",
       "      <td>1129500.0</td>\n",
       "      <td>...</td>\n",
       "      <td>-1305.000000</td>\n",
       "      <td>533.000000</td>\n",
       "      <td>10.000000</td>\n",
       "      <td>365243.0</td>\n",
       "      <td>-1274.333333</td>\n",
       "      <td>-1004.333333</td>\n",
       "      <td>-1054.333333</td>\n",
       "      <td>-1047.333333</td>\n",
       "      <td>0.666667</td>\n",
       "      <td>3.0</td>\n",
       "    </tr>\n",
       "    <tr>\n",
       "      <th>2</th>\n",
       "      <td>100004</td>\n",
       "      <td>Revolving loans</td>\n",
       "      <td>M</td>\n",
       "      <td>Y</td>\n",
       "      <td>Y</td>\n",
       "      <td>0</td>\n",
       "      <td>67500.0</td>\n",
       "      <td>135000.0</td>\n",
       "      <td>6750.0</td>\n",
       "      <td>135000.0</td>\n",
       "      <td>...</td>\n",
       "      <td>-815.000000</td>\n",
       "      <td>30.000000</td>\n",
       "      <td>4.000000</td>\n",
       "      <td>365243.0</td>\n",
       "      <td>-784.000000</td>\n",
       "      <td>-694.000000</td>\n",
       "      <td>-724.000000</td>\n",
       "      <td>-714.000000</td>\n",
       "      <td>0.000000</td>\n",
       "      <td>1.0</td>\n",
       "    </tr>\n",
       "    <tr>\n",
       "      <th>3</th>\n",
       "      <td>100006</td>\n",
       "      <td>Cash loans</td>\n",
       "      <td>F</td>\n",
       "      <td>N</td>\n",
       "      <td>Y</td>\n",
       "      <td>0</td>\n",
       "      <td>135000.0</td>\n",
       "      <td>312682.5</td>\n",
       "      <td>29686.5</td>\n",
       "      <td>297000.0</td>\n",
       "      <td>...</td>\n",
       "      <td>-272.444444</td>\n",
       "      <td>894.222222</td>\n",
       "      <td>23.000000</td>\n",
       "      <td>365243.0</td>\n",
       "      <td>91066.500000</td>\n",
       "      <td>91584.000000</td>\n",
       "      <td>182477.500000</td>\n",
       "      <td>182481.750000</td>\n",
       "      <td>0.000000</td>\n",
       "      <td>9.0</td>\n",
       "    </tr>\n",
       "    <tr>\n",
       "      <th>4</th>\n",
       "      <td>100007</td>\n",
       "      <td>Cash loans</td>\n",
       "      <td>M</td>\n",
       "      <td>N</td>\n",
       "      <td>Y</td>\n",
       "      <td>0</td>\n",
       "      <td>121500.0</td>\n",
       "      <td>513000.0</td>\n",
       "      <td>21865.5</td>\n",
       "      <td>513000.0</td>\n",
       "      <td>...</td>\n",
       "      <td>-1222.833333</td>\n",
       "      <td>409.166667</td>\n",
       "      <td>20.666667</td>\n",
       "      <td>365243.0</td>\n",
       "      <td>-1263.200000</td>\n",
       "      <td>-837.200000</td>\n",
       "      <td>72136.200000</td>\n",
       "      <td>72143.800000</td>\n",
       "      <td>0.600000</td>\n",
       "      <td>6.0</td>\n",
       "    </tr>\n",
       "  </tbody>\n",
       "</table>\n",
       "<p>5 rows × 156 columns</p>\n",
       "</div>"
      ],
      "text/plain": [
       "   SK_ID_CURR NAME_CONTRACT_TYPE CODE_GENDER FLAG_OWN_CAR FLAG_OWN_REALTY  \\\n",
       "0      100002         Cash loans           M            N               Y   \n",
       "1      100003         Cash loans           F            N               N   \n",
       "2      100004    Revolving loans           M            Y               Y   \n",
       "3      100006         Cash loans           F            N               Y   \n",
       "4      100007         Cash loans           M            N               Y   \n",
       "\n",
       "   CNT_CHILDREN  AMT_INCOME_TOTAL  AMT_CREDIT  AMT_ANNUITY  AMT_GOODS_PRICE  \\\n",
       "0             0          202500.0    406597.5      24700.5         351000.0   \n",
       "1             0          270000.0   1293502.5      35698.5        1129500.0   \n",
       "2             0           67500.0    135000.0       6750.0         135000.0   \n",
       "3             0          135000.0    312682.5      29686.5         297000.0   \n",
       "4             0          121500.0    513000.0      21865.5         513000.0   \n",
       "\n",
       "       ...       pre_app_DAYS_DECISION pre_app_SELLERPLACE_AREA  \\\n",
       "0      ...                 -606.000000               500.000000   \n",
       "1      ...                -1305.000000               533.000000   \n",
       "2      ...                 -815.000000                30.000000   \n",
       "3      ...                 -272.444444               894.222222   \n",
       "4      ...                -1222.833333               409.166667   \n",
       "\n",
       "  pre_app_CNT_PAYMENT pre_app_DAYS_FIRST_DRAWING pre_app_DAYS_FIRST_DUE  \\\n",
       "0           24.000000                   365243.0            -565.000000   \n",
       "1           10.000000                   365243.0           -1274.333333   \n",
       "2            4.000000                   365243.0            -784.000000   \n",
       "3           23.000000                   365243.0           91066.500000   \n",
       "4           20.666667                   365243.0           -1263.200000   \n",
       "\n",
       "   pre_app_DAYS_LAST_DUE_1ST_VERSION  pre_app_DAYS_LAST_DUE  \\\n",
       "0                         125.000000             -25.000000   \n",
       "1                       -1004.333333           -1054.333333   \n",
       "2                        -694.000000            -724.000000   \n",
       "3                       91584.000000          182477.500000   \n",
       "4                        -837.200000           72136.200000   \n",
       "\n",
       "   pre_app_DAYS_TERMINATION  pre_app_NFLAG_INSURED_ON_APPROVAL  pre_app_count  \n",
       "0                -17.000000                           0.000000            1.0  \n",
       "1              -1047.333333                           0.666667            3.0  \n",
       "2               -714.000000                           0.000000            1.0  \n",
       "3             182481.750000                           0.000000            9.0  \n",
       "4              72143.800000                           0.600000            6.0  \n",
       "\n",
       "[5 rows x 156 columns]"
      ]
     },
     "execution_count": 6,
     "metadata": {},
     "output_type": "execute_result"
    }
   ],
   "source": [
    "# bureauデータと結合\n",
    "df_bureau=bureau_preprocessing('bureau.csv')\n",
    "data = data.merge(right=df_bureau.reset_index(), how='left', on='SK_ID_CURR')\n",
    "\n",
    "# previous_applicationデータと結合\n",
    "df_pre_app=previous_application_preprocessing('previous_application.csv')\n",
    "data = data.merge(right=df_pre_app.reset_index(), how='left', on='SK_ID_CURR')\n",
    "data.head()"
   ]
  },
  {
   "cell_type": "code",
   "execution_count": 2,
   "metadata": {
    "collapsed": false
   },
   "outputs": [
    {
     "name": "stdout",
     "output_type": "stream",
     "text": [
      "finish\n"
     ]
    }
   ],
   "source": [
    "# カテゴリ変数を取得する関数\n",
    "def _get_categorical_features(df):\n",
    "    feats = [col for col in list(df.columns) if df[col].dtype == 'object']\n",
    "    return feats\n",
    "\n",
    "# カテゴリ変数をファクトライズ (整数に置換)する関数\n",
    "def _factorize_categoricals(df, cats):\n",
    "    for col in cats:\n",
    "        df[col], _ = pd.factorize(df[col])\n",
    "    return df \n",
    "\n",
    "# カテゴリ変数のダミー変数 (二値変数化)を作成する関数\n",
    "def _get_dummies(df, cats):\n",
    "    for col in cats:\n",
    "        df = pd.concat([df, pd.get_dummies(df[col], prefix=col, drop_first=True)], axis=1)\n",
    "        df = df.drop(col, axis=1)\n",
    "    return df \n",
    "\n",
    "# カテゴリ変数を取得\n",
    "data_cats = _get_categorical_features(data)\n",
    "\n",
    "# ダミー変数を取得\n",
    "dummied_data = _get_dummies(data, data_cats)\n",
    "print('finish')"
   ]
  },
  {
   "cell_type": "code",
   "execution_count": 3,
   "metadata": {
    "collapsed": false
   },
   "outputs": [
    {
     "name": "stdout",
     "output_type": "stream",
     "text": [
      "finish\n"
     ]
    }
   ],
   "source": [
    "trainX = dummied_data[dummied_data['is_train'] == 1]\n",
    "trainX = trainX.drop('is_test',axis=1)\n",
    "trainX = trainX.drop('is_train',axis=1)\n",
    "testX = dummied_data[dummied_data['is_test'] == 1]\n",
    "testX = testX.drop('is_test',axis=1)\n",
    "testX = testX.drop('is_train',axis=1)\n",
    "print('finish')"
   ]
  },
  {
   "cell_type": "code",
   "execution_count": 5,
   "metadata": {
    "collapsed": false
   },
   "outputs": [
    {
     "name": "stdout",
     "output_type": "stream",
     "text": [
      "19904 226104\n"
     ]
    }
   ],
   "source": [
    "trainX.columns = list(map(lambda x:x.replace(' ','_'),trainX.columns))\n",
    "trainX.columns = list(map(lambda x:x.replace(',','_'),trainX.columns))\n",
    "\n",
    "import random\n",
    "\n",
    "def get_subset(df_x,df_y):\n",
    "    tgt_index = list(df_y[df_y==1].index)\n",
    "    other_index = list(df_y[df_y==0].index)\n",
    "    tgt_cnpt_index = random.sample(other_index,len(tgt_index)*5) # このサンプリングに依存してしまうという問題はある\n",
    "    train_index = tgt_index + tgt_cnpt_index\n",
    "    return df_x.loc[train_index,:],df_y[train_index]\n",
    "\n",
    "#trainX_resampling, train_Y_resampling = get_subset(trainX,train_Y)\n",
    "\n",
    "x_train, x_val, y_train, y_val = train_test_split(trainX, train_Y, test_size=0.2, random_state=18)\n",
    "print(len(y_train[y_train==1]),len(y_train[y_train==0]))"
   ]
  },
  {
   "cell_type": "code",
   "execution_count": 7,
   "metadata": {
    "collapsed": false
   },
   "outputs": [
    {
     "name": "stdout",
     "output_type": "stream",
     "text": [
      "Fitting 3 folds for each of 128 candidates, totalling 384 fits\n"
     ]
    },
    {
     "name": "stderr",
     "output_type": "stream",
     "text": [
      "[Parallel(n_jobs=2)]: Done  46 tasks      | elapsed:  3.4min\n",
      "[Parallel(n_jobs=2)]: Done 196 tasks      | elapsed: 13.4min\n",
      "[Parallel(n_jobs=2)]: Done 384 out of 384 | elapsed: 168.7min finished\n"
     ]
    },
    {
     "name": "stdout",
     "output_type": "stream",
     "text": [
      "最適なパラメータ： {'colsample_bytree': 0.5, 'learning_rate': 0.1, 'max_depth': -1, 'min_child_samples': 10, 'min_child_weight': 0.1, 'min_split_gain': 0.01, 'n_estimators': 20, 'num_leaves': 40, 'subsample_for_bin': 50000}\n",
      "testデータにおけるスコア: 0.7419790032914163\n"
     ]
    }
   ],
   "source": [
    "from sklearn.model_selection import GridSearchCV, KFold\n",
    "\n",
    "# 思考停止してlgboostやります\n",
    "lgbc = lgb.LGBMClassifier(boosting_type='gbdt',objective='binary')\n",
    "# gridsearchのパラメータは増やしてもあり\n",
    "params_lgb = {\n",
    "        'learning_rate': [0.1],\n",
    "        'max_depth': [-1],\n",
    "        'subsample_for_bin':[200000,50000],\n",
    "        'colsample_bytree': [0.5,1.0],\n",
    "        'num_leaves':[31,40],\n",
    "        'n_estimators':[10,20],\n",
    "        'min_child_weight':[0.1,1e-3],\n",
    "        'min_child_samples':[10,20],\n",
    "        'min_split_gain':[0,0.01]\n",
    "        }\n",
    "lgbcf = GridSearchCV(lgbc, params_lgb, cv=KFold(n_splits=3, shuffle=True),scoring='roc_auc',n_jobs=2, verbose=1) #n_jobs=-1は急ぐ時\n",
    "\n",
    "lgbcf.fit(x_train, y_train)\n",
    "print('最適なパラメータ：',lgbcf.best_params_)\n",
    "print('testデータにおけるスコア: {}'.format(lgbcf.score(x_val, y_val)))\n",
    "\n",
    "ans = lgbcf.predict_proba(testX)\n",
    "result = pd.DataFrame({'SK_ID_CURR':test_id, 'TARGET':ans[:,1]})\n",
    "result.to_csv('my_submit.csv', index=False)"
   ]
  },
  {
   "cell_type": "code",
   "execution_count": 8,
   "metadata": {
    "collapsed": false
   },
   "outputs": [
    {
     "name": "stdout",
     "output_type": "stream",
     "text": [
      "Fitting 3 folds for each of 128 candidates, totalling 384 fits\n"
     ]
    },
    {
     "name": "stderr",
     "output_type": "stream",
     "text": [
      "[Parallel(n_jobs=2)]: Done  46 tasks      | elapsed:  4.1min\n",
      "[Parallel(n_jobs=2)]: Done 196 tasks      | elapsed: 17.1min\n",
      "[Parallel(n_jobs=2)]: Done 384 out of 384 | elapsed: 63.5min finished\n"
     ]
    },
    {
     "name": "stdout",
     "output_type": "stream",
     "text": [
      "最適なパラメータ： {'colsample_bytree': 0.5, 'learning_rate': 0.1, 'max_depth': -1, 'min_child_samples': 10, 'min_child_weight': 0.1, 'min_split_gain': 0.01, 'n_estimators': 20, 'num_leaves': 40, 'subsample_for_bin': 200000}\n"
     ]
    }
   ],
   "source": [
    "from sklearn.model_selection import GridSearchCV, KFold\n",
    "\n",
    "# 思考停止してlgboostやります\n",
    "lgbc = lgb.LGBMClassifier(boosting_type='gbdt',objective='binary')\n",
    "# gridsearchのパラメータは増やしてもあり\n",
    "params_lgb = {\n",
    "        'learning_rate': [0.1],\n",
    "        'max_depth': [-1],\n",
    "        'subsample_for_bin':[200000,50000],\n",
    "        'colsample_bytree': [0.5,1.0],\n",
    "        'num_leaves':[31,40],\n",
    "        'n_estimators':[10,20],\n",
    "        'min_child_weight':[0.1,1e-3],\n",
    "        'min_child_samples':[10,20],\n",
    "        'min_split_gain':[0,0.01]\n",
    "        }\n",
    "lgbcf = GridSearchCV(lgbc, params_lgb, cv=KFold(n_splits=3, shuffle=True),scoring='roc_auc',n_jobs=2, verbose=1) #n_jobs=-1は急ぐ時\n",
    "\n",
    "lgbcf.fit(trainX, train_Y)\n",
    "print('最適なパラメータ：',lgbcf.best_params_)\n",
    "#print('testデータにおけるスコア: {}'.format(lgbcf.score(x_val, y_val)))\n",
    "\n",
    "ans = lgbcf.predict_proba(testX)\n",
    "result = pd.DataFrame({'SK_ID_CURR':test_id, 'TARGET':ans[:,1]})\n",
    "result.to_csv('my_submit.csv', index=False)"
   ]
  }
 ],
 "metadata": {
  "anaconda-cloud": {},
  "kernelspec": {
   "display_name": "Python [default]",
   "language": "python",
   "name": "python3"
  },
  "language_info": {
   "codemirror_mode": {
    "name": "ipython",
    "version": 3
   },
   "file_extension": ".py",
   "mimetype": "text/x-python",
   "name": "python",
   "nbconvert_exporter": "python",
   "pygments_lexer": "ipython3",
   "version": "3.5.2"
  }
 },
 "nbformat": 4,
 "nbformat_minor": 2
}

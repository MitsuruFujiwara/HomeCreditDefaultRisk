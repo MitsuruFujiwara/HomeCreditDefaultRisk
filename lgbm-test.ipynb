{
 "cells": [
  {
   "cell_type": "code",
   "execution_count": 1,
   "metadata": {},
   "outputs": [
    {
     "name": "stdout",
     "output_type": "stream",
     "text": [
      "24825 282686\n"
     ]
    }
   ],
   "source": [
    "import pandas as pd\n",
    "from sklearn.model_selection import train_test_split \n",
    "import lightgbm as lgb\n",
    "\n",
    "# テストファイル読み込み\n",
    "app_test = pd.read_csv('../application_test.csv')\n",
    "app_train = pd.read_csv('../application_train.csv')\n",
    "\n",
    "app_test['is_test'] = 1 \n",
    "app_test['is_train'] = 0\n",
    "app_train['is_test'] = 0\n",
    "app_train['is_train'] = 1\n",
    "\n",
    "train_Y = app_train['TARGET']\n",
    "train_X = app_train.drop(['TARGET'], axis = 1)\n",
    "\n",
    "# テストID\n",
    "test_id = app_test['SK_ID_CURR']\n",
    "test_X = app_test\n",
    "\n",
    "# 前処理のためにトレインとテストを連結\n",
    "data = pd.concat([train_X, test_X], axis=0)\n",
    "print(len(train_Y[train_Y==1]),len(train_Y[train_Y==0]))"
   ]
  },
  {
   "cell_type": "code",
   "execution_count": 2,
   "metadata": {},
   "outputs": [
    {
     "name": "stdout",
     "output_type": "stream",
     "text": [
      "finish\n"
     ]
    }
   ],
   "source": [
    "# カテゴリ変数を取得する関数\n",
    "def _get_categorical_features(df):\n",
    "    feats = [col for col in list(df.columns) if df[col].dtype == 'object']\n",
    "    return feats\n",
    "\n",
    "# カテゴリ変数をファクトライズ (整数に置換)する関数\n",
    "def _factorize_categoricals(df, cats):\n",
    "    for col in cats:\n",
    "        df[col], _ = pd.factorize(df[col])\n",
    "    return df \n",
    "\n",
    "# カテゴリ変数のダミー変数 (二値変数化)を作成する関数\n",
    "def _get_dummies(df, cats):\n",
    "    for col in cats:\n",
    "        df = pd.concat([df, pd.get_dummies(df[col], prefix=col, drop_first=True)], axis=1)\n",
    "        df = df.drop(col, axis=1)\n",
    "    return df \n",
    "\n",
    "# カテゴリ変数を取得\n",
    "data_cats = _get_categorical_features(data)\n",
    "\n",
    "# ダミー変数を取得\n",
    "dummied_data = _get_dummies(data, data_cats)\n",
    "print('finish')"
   ]
  },
  {
   "cell_type": "code",
   "execution_count": 3,
   "metadata": {},
   "outputs": [
    {
     "name": "stdout",
     "output_type": "stream",
     "text": [
      "finish\n"
     ]
    }
   ],
   "source": [
    "trainX = dummied_data[dummied_data['is_train'] == 1]\n",
    "trainX = trainX.drop('is_test',axis=1)\n",
    "trainX = trainX.drop('is_train',axis=1)\n",
    "testX = dummied_data[dummied_data['is_test'] == 1]\n",
    "testX = testX.drop('is_test',axis=1)\n",
    "testX = testX.drop('is_train',axis=1)\n",
    "print('finish')"
   ]
  },
  {
   "cell_type": "code",
   "execution_count": 5,
   "metadata": {},
   "outputs": [
    {
     "name": "stdout",
     "output_type": "stream",
     "text": [
      "19904 226104\n"
     ]
    }
   ],
   "source": [
    "trainX.columns = list(map(lambda x:x.replace(' ','_'),trainX.columns))\n",
    "trainX.columns = list(map(lambda x:x.replace(',','_'),trainX.columns))\n",
    "\n",
    "import random\n",
    "\n",
    "def get_subset(df_x,df_y):\n",
    "    tgt_index = list(df_y[df_y==1].index)\n",
    "    other_index = list(df_y[df_y==0].index)\n",
    "    tgt_cnpt_index = random.sample(other_index,len(tgt_index)*5) # このサンプリングに依存してしまうという問題はある\n",
    "    train_index = tgt_index + tgt_cnpt_index\n",
    "    return df_x.loc[train_index,:],df_y[train_index]\n",
    "\n",
    "#trainX_resampling, train_Y_resampling = get_subset(trainX,train_Y)\n",
    "\n",
    "x_train, x_val, y_train, y_val = train_test_split(trainX, train_Y, test_size=0.2, random_state=18)\n",
    "print(len(y_train[y_train==1]),len(y_train[y_train==0]))"
   ]
  },
  {
   "cell_type": "code",
   "execution_count": 7,
   "metadata": {},
   "outputs": [
    {
     "name": "stdout",
     "output_type": "stream",
     "text": [
      "Fitting 3 folds for each of 128 candidates, totalling 384 fits\n"
     ]
    },
    {
     "name": "stderr",
     "output_type": "stream",
     "text": [
      "[Parallel(n_jobs=2)]: Done  46 tasks      | elapsed:  3.4min\n",
      "[Parallel(n_jobs=2)]: Done 196 tasks      | elapsed: 13.4min\n",
      "[Parallel(n_jobs=2)]: Done 384 out of 384 | elapsed: 168.7min finished\n"
     ]
    },
    {
     "name": "stdout",
     "output_type": "stream",
     "text": [
      "最適なパラメータ： {'colsample_bytree': 0.5, 'learning_rate': 0.1, 'max_depth': -1, 'min_child_samples': 10, 'min_child_weight': 0.1, 'min_split_gain': 0.01, 'n_estimators': 20, 'num_leaves': 40, 'subsample_for_bin': 50000}\n",
      "testデータにおけるスコア: 0.7419790032914163\n"
     ]
    }
   ],
   "source": [
    "from sklearn.model_selection import GridSearchCV, KFold\n",
    "\n",
    "# 思考停止してlgboostやります\n",
    "lgbc = lgb.LGBMClassifier(boosting_type='gbdt',objective='binary')\n",
    "# gridsearchのパラメータは増やしてもあり\n",
    "params_lgb = {\n",
    "        'learning_rate': [0.1],\n",
    "        'max_depth': [-1],\n",
    "        'subsample_for_bin':[200000,50000],\n",
    "        'colsample_bytree': [0.5,1.0],\n",
    "        'num_leaves':[31,40],\n",
    "        'n_estimators':[10,20],\n",
    "        'min_child_weight':[0.1,1e-3],\n",
    "        'min_child_samples':[10,20],\n",
    "        'min_split_gain':[0,0.01]\n",
    "        }\n",
    "lgbcf = GridSearchCV(lgbc, params_lgb, cv=KFold(n_splits=3, shuffle=True),scoring='roc_auc',n_jobs=2, verbose=1) #n_jobs=-1は急ぐ時\n",
    "\n",
    "lgbcf.fit(x_train, y_train)\n",
    "print('最適なパラメータ：',lgbcf.best_params_)\n",
    "print('testデータにおけるスコア: {}'.format(lgbcf.score(x_val, y_val)))\n",
    "\n",
    "ans = lgbcf.predict_proba(testX)\n",
    "result = pd.DataFrame({'SK_ID_CURR':test_id, 'TARGET':ans[:,1]})\n",
    "result.to_csv('my_submit.csv', index=False)"
   ]
  },
  {
   "cell_type": "code",
   "execution_count": 8,
   "metadata": {},
   "outputs": [
    {
     "name": "stdout",
     "output_type": "stream",
     "text": [
      "Fitting 3 folds for each of 128 candidates, totalling 384 fits\n"
     ]
    },
    {
     "name": "stderr",
     "output_type": "stream",
     "text": [
      "[Parallel(n_jobs=2)]: Done  46 tasks      | elapsed:  4.1min\n",
      "[Parallel(n_jobs=2)]: Done 196 tasks      | elapsed: 17.1min\n",
      "[Parallel(n_jobs=2)]: Done 384 out of 384 | elapsed: 63.5min finished\n"
     ]
    },
    {
     "name": "stdout",
     "output_type": "stream",
     "text": [
      "最適なパラメータ： {'colsample_bytree': 0.5, 'learning_rate': 0.1, 'max_depth': -1, 'min_child_samples': 10, 'min_child_weight': 0.1, 'min_split_gain': 0.01, 'n_estimators': 20, 'num_leaves': 40, 'subsample_for_bin': 200000}\n"
     ]
    }
   ],
   "source": [
    "from sklearn.model_selection import GridSearchCV, KFold\n",
    "\n",
    "# 思考停止してlgboostやります\n",
    "lgbc = lgb.LGBMClassifier(boosting_type='gbdt',objective='binary')\n",
    "# gridsearchのパラメータは増やしてもあり\n",
    "params_lgb = {\n",
    "        'learning_rate': [0.1],\n",
    "        'max_depth': [-1],\n",
    "        'subsample_for_bin':[200000,50000],\n",
    "        'colsample_bytree': [0.5,1.0],\n",
    "        'num_leaves':[31,40],\n",
    "        'n_estimators':[10,20],\n",
    "        'min_child_weight':[0.1,1e-3],\n",
    "        'min_child_samples':[10,20],\n",
    "        'min_split_gain':[0,0.01]\n",
    "        }\n",
    "lgbcf = GridSearchCV(lgbc, params_lgb, cv=KFold(n_splits=3, shuffle=True),scoring='roc_auc',n_jobs=2, verbose=1) #n_jobs=-1は急ぐ時\n",
    "\n",
    "lgbcf.fit(trainX, train_Y)\n",
    "print('最適なパラメータ：',lgbcf.best_params_)\n",
    "#print('testデータにおけるスコア: {}'.format(lgbcf.score(x_val, y_val)))\n",
    "\n",
    "ans = lgbcf.predict_proba(testX)\n",
    "result = pd.DataFrame({'SK_ID_CURR':test_id, 'TARGET':ans[:,1]})\n",
    "result.to_csv('my_submit.csv', index=False)"
   ]
  }
 ],
 "metadata": {
  "kernelspec": {
   "display_name": "Python 3",
   "language": "python",
   "name": "python3"
  },
  "language_info": {
   "codemirror_mode": {
    "name": "ipython",
    "version": 3
   },
   "file_extension": ".py",
   "mimetype": "text/x-python",
   "name": "python",
   "nbconvert_exporter": "python",
   "pygments_lexer": "ipython3",
   "version": "3.6.4"
  }
 },
 "nbformat": 4,
 "nbformat_minor": 2
}
